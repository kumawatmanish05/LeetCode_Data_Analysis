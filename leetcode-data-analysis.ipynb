{
 "cells": [
  {
   "cell_type": "markdown",
   "id": "8aa4bc03",
   "metadata": {
    "papermill": {
     "duration": 0.002873,
     "end_time": "2024-11-09T17:54:58.219739",
     "exception": false,
     "start_time": "2024-11-09T17:54:58.216866",
     "status": "completed"
    },
    "tags": []
   },
   "source": [
    "# Importing Libraries"
   ]
  },
  {
   "cell_type": "code",
   "execution_count": 1,
   "id": "ec7fb21f",
   "metadata": {
    "execution": {
     "iopub.execute_input": "2024-11-09T17:54:58.226800Z",
     "iopub.status.busy": "2024-11-09T17:54:58.226238Z",
     "iopub.status.idle": "2024-11-09T17:55:01.986882Z",
     "shell.execute_reply": "2024-11-09T17:55:01.985328Z"
    },
    "papermill": {
     "duration": 3.767667,
     "end_time": "2024-11-09T17:55:01.989908",
     "exception": false,
     "start_time": "2024-11-09T17:54:58.222241",
     "status": "completed"
    },
    "tags": []
   },
   "outputs": [],
   "source": [
    "# Suppress warnings\n",
    "import warnings\n",
    "warnings.filterwarnings('ignore')\n",
    "\n",
    "# Import necessary libraries\n",
    "import pandas as pd\n",
    "import numpy as np\n",
    "import matplotlib.pyplot as plt\n",
    "import seaborn as sns\n",
    "from sklearn.model_selection import train_test_split\n",
    "from sklearn.ensemble import RandomForestClassifier\n",
    "from sklearn.metrics import accuracy_score, classification_report, confusion_matrix"
   ]
  },
  {
   "cell_type": "code",
   "execution_count": 2,
   "id": "75c9728b",
   "metadata": {
    "execution": {
     "iopub.execute_input": "2024-11-09T17:55:01.996935Z",
     "iopub.status.busy": "2024-11-09T17:55:01.995961Z",
     "iopub.status.idle": "2024-11-09T17:55:02.064095Z",
     "shell.execute_reply": "2024-11-09T17:55:02.062799Z"
    },
    "papermill": {
     "duration": 0.074345,
     "end_time": "2024-11-09T17:55:02.066660",
     "exception": false,
     "start_time": "2024-11-09T17:55:01.992315",
     "status": "completed"
    },
    "tags": []
   },
   "outputs": [
    {
     "data": {
      "text/html": [
       "<div>\n",
       "<style scoped>\n",
       "    .dataframe tbody tr th:only-of-type {\n",
       "        vertical-align: middle;\n",
       "    }\n",
       "\n",
       "    .dataframe tbody tr th {\n",
       "        vertical-align: top;\n",
       "    }\n",
       "\n",
       "    .dataframe thead th {\n",
       "        text-align: right;\n",
       "    }\n",
       "</style>\n",
       "<table border=\"1\" class=\"dataframe\">\n",
       "  <thead>\n",
       "    <tr style=\"text-align: right;\">\n",
       "      <th></th>\n",
       "      <th>Question_No</th>\n",
       "      <th>Question</th>\n",
       "      <th>Acceptance</th>\n",
       "      <th>isPremium</th>\n",
       "      <th>Difficulty</th>\n",
       "      <th>Question_Link</th>\n",
       "      <th>Solution</th>\n",
       "    </tr>\n",
       "  </thead>\n",
       "  <tbody>\n",
       "    <tr>\n",
       "      <th>0</th>\n",
       "      <td>1</td>\n",
       "      <td>Two Sum</td>\n",
       "      <td>53.80%</td>\n",
       "      <td>False</td>\n",
       "      <td>Easy</td>\n",
       "      <td>https://leetcode.com/problems/two-sum/description</td>\n",
       "      <td>https://leetcode.com/problems/two-sum/solutions</td>\n",
       "    </tr>\n",
       "    <tr>\n",
       "      <th>1</th>\n",
       "      <td>2</td>\n",
       "      <td>Add Two Numbers</td>\n",
       "      <td>44.10%</td>\n",
       "      <td>False</td>\n",
       "      <td>Medium</td>\n",
       "      <td>https://leetcode.com/problems/add-two-numbers/...</td>\n",
       "      <td>https://leetcode.com/problems/add-two-numbers/...</td>\n",
       "    </tr>\n",
       "    <tr>\n",
       "      <th>2</th>\n",
       "      <td>3</td>\n",
       "      <td>Longest Substring Without Repeating Characters</td>\n",
       "      <td>35.40%</td>\n",
       "      <td>False</td>\n",
       "      <td>Medium</td>\n",
       "      <td>https://leetcode.com/problems/longest-substrin...</td>\n",
       "      <td>https://leetcode.com/problems/longest-substrin...</td>\n",
       "    </tr>\n",
       "    <tr>\n",
       "      <th>3</th>\n",
       "      <td>4</td>\n",
       "      <td>Median of Two Sorted Arrays</td>\n",
       "      <td>41.50%</td>\n",
       "      <td>False</td>\n",
       "      <td>Hard</td>\n",
       "      <td>https://leetcode.com/problems/median-of-two-so...</td>\n",
       "      <td>https://leetcode.com/problems/median-of-two-so...</td>\n",
       "    </tr>\n",
       "    <tr>\n",
       "      <th>4</th>\n",
       "      <td>5</td>\n",
       "      <td>Longest Palindromic Substring</td>\n",
       "      <td>34.40%</td>\n",
       "      <td>False</td>\n",
       "      <td>Medium</td>\n",
       "      <td>https://leetcode.com/problems/longest-palindro...</td>\n",
       "      <td>https://leetcode.com/problems/longest-palindro...</td>\n",
       "    </tr>\n",
       "  </tbody>\n",
       "</table>\n",
       "</div>"
      ],
      "text/plain": [
       "   Question_No                                         Question Acceptance  \\\n",
       "0            1                                          Two Sum     53.80%   \n",
       "1            2                                  Add Two Numbers     44.10%   \n",
       "2            3   Longest Substring Without Repeating Characters     35.40%   \n",
       "3            4                      Median of Two Sorted Arrays     41.50%   \n",
       "4            5                    Longest Palindromic Substring     34.40%   \n",
       "\n",
       "   isPremium Difficulty                                      Question_Link  \\\n",
       "0      False       Easy  https://leetcode.com/problems/two-sum/description   \n",
       "1      False     Medium  https://leetcode.com/problems/add-two-numbers/...   \n",
       "2      False     Medium  https://leetcode.com/problems/longest-substrin...   \n",
       "3      False       Hard  https://leetcode.com/problems/median-of-two-so...   \n",
       "4      False     Medium  https://leetcode.com/problems/longest-palindro...   \n",
       "\n",
       "                                            Solution  \n",
       "0    https://leetcode.com/problems/two-sum/solutions  \n",
       "1  https://leetcode.com/problems/add-two-numbers/...  \n",
       "2  https://leetcode.com/problems/longest-substrin...  \n",
       "3  https://leetcode.com/problems/median-of-two-so...  \n",
       "4  https://leetcode.com/problems/longest-palindro...  "
      ]
     },
     "execution_count": 2,
     "metadata": {},
     "output_type": "execute_result"
    }
   ],
   "source": [
    "# Load the dataset\n",
    "file_path = '/kaggle/input/leetcode-questions-dataset/Leetcode_Questions.csv'\n",
    "df = pd.read_csv(file_path)\n",
    "\n",
    "# Display the first few rows of the dataset\n",
    "df.head()"
   ]
  }
 ],
 "metadata": {
  "kaggle": {
   "accelerator": "none",
   "dataSources": [
    {
     "datasetId": 5744083,
     "sourceId": 9784829,
     "sourceType": "datasetVersion"
    }
   ],
   "dockerImageVersionId": 30786,
   "isGpuEnabled": false,
   "isInternetEnabled": true,
   "language": "python",
   "sourceType": "notebook"
  },
  "kernelspec": {
   "display_name": "Python 3",
   "language": "python",
   "name": "python3"
  },
  "language_info": {
   "codemirror_mode": {
    "name": "ipython",
    "version": 3
   },
   "file_extension": ".py",
   "mimetype": "text/x-python",
   "name": "python",
   "nbconvert_exporter": "python",
   "pygments_lexer": "ipython3",
   "version": "3.10.14"
  },
  "papermill": {
   "default_parameters": {},
   "duration": 7.891476,
   "end_time": "2024-11-09T17:55:02.791182",
   "environment_variables": {},
   "exception": null,
   "input_path": "__notebook__.ipynb",
   "output_path": "__notebook__.ipynb",
   "parameters": {},
   "start_time": "2024-11-09T17:54:54.899706",
   "version": "2.6.0"
  }
 },
 "nbformat": 4,
 "nbformat_minor": 5
}
